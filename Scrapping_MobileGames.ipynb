{
 "cells": [
  {
   "cell_type": "markdown",
   "id": "376d8f1b",
   "metadata": {},
   "source": [
    "# Scrapping - from www.igdb.com -- Selenium"
   ]
  },
  {
   "cell_type": "markdown",
   "id": "5a444ee1",
   "metadata": {},
   "source": [
    "### Android Games"
   ]
  },
  {
   "cell_type": "code",
   "execution_count": 1,
   "id": "06c1f6d7",
   "metadata": {},
   "outputs": [],
   "source": [
    "from selenium import webdriver\n",
    "from webdriver_manager.chrome import ChromeDriverManager\n",
    "from selenium.webdriver.common.by import By\n",
    "from selenium.webdriver.support.ui import WebDriverWait \n",
    "from selenium.webdriver.support import expected_conditions as EC\n",
    "import time\n",
    "import undetected_chromedriver as uc"
   ]
  },
  {
   "cell_type": "code",
   "execution_count": 2,
   "id": "2783de43",
   "metadata": {},
   "outputs": [],
   "source": [
    "try:\n",
    "    driver = webdriver.Chrome()\n",
    "except:\n",
    "    driver = webdriver.Chrome(ChromeDriverManager().install())\n",
    "\n",
    "driver = uc.Chrome()"
   ]
  },
  {
   "cell_type": "markdown",
   "id": "68c388e3",
   "metadata": {},
   "source": [
    "https://github.com/ultrafunkamsterdam/undetected-chromedriver"
   ]
  },
  {
   "cell_type": "code",
   "execution_count": null,
   "id": "6c8bdc37",
   "metadata": {},
   "outputs": [],
   "source": [
    "my_url = \"https://www.igdb.com/platforms/android/games\"\n",
    "driver.get(my_url)\n",
    "\n",
    "page = driver.find_element(\"class name\", \"next\")\n",
    "next_page_parent = '.pagination .next'\n",
    "\n",
    "game_titles_android = []\n",
    "\n",
    "def storeGameInfo(gameElement):\n",
    "    game_titles_android.append(gameElement.text)\n",
    "\n",
    "while True:\n",
    "    container = driver.find_element(By.CLASS_NAME, \"game-list-container\")\n",
    "    nextLink = container.find_element(By.CSS_SELECTOR, \".pagination .next\")\n",
    "    nextPageAvailable = 'disabled' not in nextLink.get_attribute(\"class\")\n",
    "\n",
    "    gameElems = container.find_elements(By.CLASS_NAME, \"media\")\n",
    "    for g in gameElems:\n",
    "        storeGameInfo(g)\n",
    "\n",
    "    nextLink.find_element(By.TAG_NAME, \"span\").click()\n",
    "    time.sleep(2)\n",
    "\n",
    "    if nextPageAvailable == False:\n",
    "        break;"
   ]
  },
  {
   "cell_type": "code",
   "execution_count": null,
   "id": "0be13568",
   "metadata": {},
   "outputs": [],
   "source": [
    "print(game_titles_android)"
   ]
  },
  {
   "cell_type": "code",
   "execution_count": null,
   "id": "b7d9d7b2",
   "metadata": {},
   "outputs": [],
   "source": [
    "import pandas as pd\n",
    "df_games_android = pd.DataFrame({\"Name\" : game_titles_android})\n",
    "df_games_android"
   ]
  },
  {
   "cell_type": "code",
   "execution_count": null,
   "id": "5f5bed1f",
   "metadata": {},
   "outputs": [],
   "source": [
    "df_games_android.to_csv('Android_games_dirty.csv', index = False)"
   ]
  },
  {
   "cell_type": "code",
   "execution_count": null,
   "id": "6325f367",
   "metadata": {},
   "outputs": [],
   "source": [
    "pd.read_csv('Android_games_dirty.csv')"
   ]
  },
  {
   "cell_type": "markdown",
   "id": "585f143d",
   "metadata": {},
   "source": [
    "### iOS Games"
   ]
  },
  {
   "cell_type": "code",
   "execution_count": null,
   "id": "71aa81a3",
   "metadata": {},
   "outputs": [],
   "source": [
    "my_url = \"https://www.igdb.com/platforms/ios\"\n",
    "driver.get(my_url)\n",
    "\n",
    "page = driver.find_element(\"class name\", \"next\")\n",
    "next_page_parent = '.pagination .next'\n",
    "\n",
    "game_titles_iOS = []\n",
    "\n",
    "def storeGameInfo(gameElement):\n",
    "    game_titles_iOS.append(gameElement.text)\n",
    "\n",
    "while True:\n",
    "    container = driver.find_element(By.CLASS_NAME, \"game-list-container\")\n",
    "    nextLink = container.find_element(By.CSS_SELECTOR, \".pagination .next\")\n",
    "    nextPageAvailable = 'disabled' not in nextLink.get_attribute(\"class\")\n",
    "\n",
    "    gameElems = container.find_elements(By.CLASS_NAME, \"media\")\n",
    "    for g in gameElems:\n",
    "        storeGameInfo(g)\n",
    "\n",
    "    nextLink.find_element(By.TAG_NAME, \"span\").click()\n",
    "    time.sleep(2)\n",
    "\n",
    "    if nextPageAvailable == False:\n",
    "        break;"
   ]
  },
  {
   "cell_type": "code",
   "execution_count": null,
   "id": "41d38acf",
   "metadata": {},
   "outputs": [],
   "source": [
    "print(game_titles_iOS)\n",
    "df_games_iOS = pd.DataFrame({\"Name\" : game_titles_iOS})\n",
    "df_games_iOS\n",
    "df_games_iOS.to_csv('iOS_games_dirty.csv', index = False)"
   ]
  },
  {
   "cell_type": "markdown",
   "id": "6ae35ddd",
   "metadata": {},
   "source": [
    "#### Scraping méthode alternative"
   ]
  },
  {
   "cell_type": "markdown",
   "id": "7cdaa957",
   "metadata": {},
   "source": [
    "Tentative d'obtenir plusieurs listes pour éviter de nettoyer le dataframe par la suite.<br>Malheureusement je n'ai pas réussi à trouver la bonne balise ou classe. Le nom et la date des jeux donnent des listes vides"
   ]
  },
  {
   "cell_type": "code",
   "execution_count": null,
   "id": "b8b2b961",
   "metadata": {},
   "outputs": [],
   "source": [
    "my_url = \"https://www.igdb.com/platforms/ios\"\n",
    "driver.get(my_url)\n",
    "\n",
    "page = driver.find_element(\"class name\", \"next\")\n",
    "next_page_parent = '.pagination .next'\n",
    "\n",
    "game_name_iOS = []\n",
    "game_year_iOS = []\n",
    "game_platform_iOS = []\n",
    "\n",
    "def storeGameNames(gameName):\n",
    "    game_names_iOS.append(gameName.text)\n",
    "    \n",
    "def storeGameYears(gameYear):\n",
    "    game_year_iOS.append(gameYear.text)\n",
    "\n",
    "def storeGamePlatforms(gamePlatform):\n",
    "    game_platform_iOS.append(gamePlatform.text)\n",
    "\n",
    "while True:\n",
    "    container = driver.find_element(By.CLASS_NAME, \"game-list-container\")\n",
    "    nextLink = container.find_element(By.CSS_SELECTOR, \".pagination .next\")\n",
    "    nextPageAvailable = 'disabled' not in nextLink.get_attribute(\"class\")\n",
    "\n",
    "    gameNames = container.find_elements(By.CLASS_NAME, \"overflow-wrap link-dark h4 mt-0\")\n",
    "    for g in gameNames:\n",
    "        storeGameNames(g)\n",
    "        \n",
    "    gameYears = container.find_elements(By.CLASS_NAME, \"game-shortdate text-muted small\")\n",
    "    for g in gameYears:\n",
    "        storeGameYears(g)\n",
    "        \n",
    "    gamePlatforms = container.find_elements(By.CLASS_NAME,\"mar-md-bottom\")\n",
    "    for g in gamePlatforms:\n",
    "        storeGamePlatforms(g)\n",
    "\n",
    "    nextLink.find_element(By.TAG_NAME, \"span\").click()\n",
    "    time.sleep(2)\n",
    "\n",
    "    if nextPageAvailable == False:\n",
    "        break;"
   ]
  },
  {
   "cell_type": "code",
   "execution_count": null,
   "id": "711f2890",
   "metadata": {},
   "outputs": [],
   "source": [
    "print(game_name_iOS)\n",
    "print(game_year_iOS)\n",
    "print(game_platform_iOS)"
   ]
  }
 ],
 "metadata": {
  "kernelspec": {
   "display_name": "Python 3 (ipykernel)",
   "language": "python",
   "name": "python3"
  },
  "language_info": {
   "codemirror_mode": {
    "name": "ipython",
    "version": 3
   },
   "file_extension": ".py",
   "mimetype": "text/x-python",
   "name": "python",
   "nbconvert_exporter": "python",
   "pygments_lexer": "ipython3",
   "version": "3.9.13"
  }
 },
 "nbformat": 4,
 "nbformat_minor": 5
}
